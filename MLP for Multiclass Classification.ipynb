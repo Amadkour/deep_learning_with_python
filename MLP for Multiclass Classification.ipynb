{
 "cells": [
  {
   "cell_type": "code",
   "execution_count": null,
   "id": "27192705",
   "metadata": {
    "is_executing": true
   },
   "outputs": [],
   "source": [
    "import numpy as np\n",
    "import os\n",
    "import math\n",
    "import matplotlib\n",
    "import matplotlib.pyplot as plt\n",
    "\n",
    "from sklearn.metrics import accuracy_score ,  precision_score, recall_score, f1_score, confusion_matrix\n",
    "\n",
    "\n"
   ]
  },
  {
   "cell_type": "markdown",
   "id": "48caab0a",
   "metadata": {},
   "source": [
    "# Fetching Mnist 784 Dataset"
   ]
  },
  {
   "cell_type": "code",
   "execution_count": 1,
   "id": "6a960cd0",
   "metadata": {
    "ExecuteTime": {
     "end_time": "2023-11-03T20:15:16.571116700Z",
     "start_time": "2023-11-03T20:14:47.588526Z"
    }
   },
   "outputs": [
    {
     "name": "stderr",
     "output_type": "stream",
     "text": [
      "C:\\Users\\madkour\\PycharmProjects\\dl\\venv\\lib\\site-packages\\sklearn\\datasets\\_openml.py:1022: FutureWarning: The default value of `parser` will change from `'liac-arff'` to `'auto'` in 1.4. You can set `parser='auto'` to silence this warning. Therefore, an `ImportError` will be raised from 1.4 if the dataset is dense and pandas is not installed. Note that the pandas parser may return different data types. See the Notes Section in fetch_openml's API doc for details.\n",
      "  warn(\n"
     ]
    }
   ],
   "source": [
    "\n",
    "\n",
    "from sklearn.datasets import fetch_openml\n",
    "\n",
    "X,y = fetch_openml('mnist_784',version=1, cache=True, return_X_y=True )\n",
    "\n"
   ]
  },
  {
   "cell_type": "markdown",
   "source": [
    "# convert y to integer"
   ],
   "metadata": {
    "collapsed": false
   },
   "id": "eb0e6e6811ecd344"
  },
  {
   "cell_type": "code",
   "execution_count": 4,
   "id": "9c8b8d03",
   "metadata": {
    "ExecuteTime": {
     "end_time": "2023-11-03T20:15:59.551005800Z",
     "start_time": "2023-11-03T20:15:59.530500100Z"
    }
   },
   "outputs": [],
   "source": [
    "\n",
    "# Use the notion of y=f(X)\n",
    "y = y.astype(int)\n"
   ]
  },
  {
   "cell_type": "code",
   "execution_count": null,
   "id": "197d2479",
   "metadata": {},
   "outputs": [],
   "source": [
    "\n",
    "print('Data size: {0} x {1} and label size {2}'.format( X.shape[0] ,   X.shape[1]  ,  y.shape[0] ) )\n",
    "print('The images are of size: {0} x {0}'.format(math.sqrt (X.shape[1])   ))\n",
    "\n"
   ]
  },
  {
   "cell_type": "markdown",
   "id": "1658c031",
   "metadata": {},
   "source": [
    "\n",
    "# Test and Training Data\n",
    "\n",
    "Split data into test and training data after re-shuffling the data. We can simply take the first 60000 as training and the last 10000 as test."
   ]
  },
  {
   "cell_type": "code",
   "execution_count": 6,
   "id": "6b52a489",
   "metadata": {
    "ExecuteTime": {
     "end_time": "2023-11-03T20:20:39.584392600Z",
     "start_time": "2023-11-03T20:20:34.588560600Z"
    }
   },
   "outputs": [],
   "source": [
    "\n",
    "\n",
    "from sklearn.model_selection import train_test_split\n",
    "\n",
    "X_train, X_test, y_train, y_test = train_test_split( X,  y, test_size = 0.1, stratify=y, random_state=42)\n"
   ]
  },
  {
   "cell_type": "code",
   "execution_count": null,
   "id": "1fddced7",
   "metadata": {},
   "outputs": [],
   "source": [
    "\n",
    "print(  \" The Number of Training data is \" ,  X_train.shape[0] )\n",
    "print(  \" The Number of Testing data is \"  ,  X_test.shape[0] )\n",
    "\n"
   ]
  },
  {
   "cell_type": "code",
   "execution_count": 7,
   "id": "2d61b1f7",
   "metadata": {
    "ExecuteTime": {
     "end_time": "2023-11-03T20:21:15.148916500Z",
     "start_time": "2023-11-03T20:20:40.888456500Z"
    }
   },
   "outputs": [
    {
     "name": "stdout",
     "output_type": "stream",
     "text": [
      "Iteration 1, loss = 1.11445237\n",
      "Iteration 2, loss = 0.23660502\n",
      "Iteration 3, loss = 0.17708872\n",
      "Iteration 4, loss = 0.14204399\n",
      "Iteration 5, loss = 0.12082762\n",
      "Iteration 6, loss = 0.10603697\n",
      "Iteration 7, loss = 0.09327202\n",
      "Iteration 8, loss = 0.08268201\n",
      "Iteration 9, loss = 0.07351411\n",
      "Iteration 10, loss = 0.06685896\n"
     ]
    },
    {
     "name": "stderr",
     "output_type": "stream",
     "text": [
      "C:\\Users\\madkour\\PycharmProjects\\dl\\venv\\lib\\site-packages\\sklearn\\neural_network\\_multilayer_perceptron.py:691: ConvergenceWarning: Stochastic Optimizer: Maximum iterations (10) reached and the optimization hasn't converged yet.\n",
      "  warnings.warn(\n"
     ]
    },
    {
     "data": {
      "text/plain": "MLPClassifier(hidden_layer_sizes=(200, 400, 150, 100), max_iter=10,\n              solver='sgd', validation_fraction=0.0, verbose=True)",
      "text/html": "<style>#sk-container-id-1 {color: black;}#sk-container-id-1 pre{padding: 0;}#sk-container-id-1 div.sk-toggleable {background-color: white;}#sk-container-id-1 label.sk-toggleable__label {cursor: pointer;display: block;width: 100%;margin-bottom: 0;padding: 0.3em;box-sizing: border-box;text-align: center;}#sk-container-id-1 label.sk-toggleable__label-arrow:before {content: \"▸\";float: left;margin-right: 0.25em;color: #696969;}#sk-container-id-1 label.sk-toggleable__label-arrow:hover:before {color: black;}#sk-container-id-1 div.sk-estimator:hover label.sk-toggleable__label-arrow:before {color: black;}#sk-container-id-1 div.sk-toggleable__content {max-height: 0;max-width: 0;overflow: hidden;text-align: left;background-color: #f0f8ff;}#sk-container-id-1 div.sk-toggleable__content pre {margin: 0.2em;color: black;border-radius: 0.25em;background-color: #f0f8ff;}#sk-container-id-1 input.sk-toggleable__control:checked~div.sk-toggleable__content {max-height: 200px;max-width: 100%;overflow: auto;}#sk-container-id-1 input.sk-toggleable__control:checked~label.sk-toggleable__label-arrow:before {content: \"▾\";}#sk-container-id-1 div.sk-estimator input.sk-toggleable__control:checked~label.sk-toggleable__label {background-color: #d4ebff;}#sk-container-id-1 div.sk-label input.sk-toggleable__control:checked~label.sk-toggleable__label {background-color: #d4ebff;}#sk-container-id-1 input.sk-hidden--visually {border: 0;clip: rect(1px 1px 1px 1px);clip: rect(1px, 1px, 1px, 1px);height: 1px;margin: -1px;overflow: hidden;padding: 0;position: absolute;width: 1px;}#sk-container-id-1 div.sk-estimator {font-family: monospace;background-color: #f0f8ff;border: 1px dotted black;border-radius: 0.25em;box-sizing: border-box;margin-bottom: 0.5em;}#sk-container-id-1 div.sk-estimator:hover {background-color: #d4ebff;}#sk-container-id-1 div.sk-parallel-item::after {content: \"\";width: 100%;border-bottom: 1px solid gray;flex-grow: 1;}#sk-container-id-1 div.sk-label:hover label.sk-toggleable__label {background-color: #d4ebff;}#sk-container-id-1 div.sk-serial::before {content: \"\";position: absolute;border-left: 1px solid gray;box-sizing: border-box;top: 0;bottom: 0;left: 50%;z-index: 0;}#sk-container-id-1 div.sk-serial {display: flex;flex-direction: column;align-items: center;background-color: white;padding-right: 0.2em;padding-left: 0.2em;position: relative;}#sk-container-id-1 div.sk-item {position: relative;z-index: 1;}#sk-container-id-1 div.sk-parallel {display: flex;align-items: stretch;justify-content: center;background-color: white;position: relative;}#sk-container-id-1 div.sk-item::before, #sk-container-id-1 div.sk-parallel-item::before {content: \"\";position: absolute;border-left: 1px solid gray;box-sizing: border-box;top: 0;bottom: 0;left: 50%;z-index: -1;}#sk-container-id-1 div.sk-parallel-item {display: flex;flex-direction: column;z-index: 1;position: relative;background-color: white;}#sk-container-id-1 div.sk-parallel-item:first-child::after {align-self: flex-end;width: 50%;}#sk-container-id-1 div.sk-parallel-item:last-child::after {align-self: flex-start;width: 50%;}#sk-container-id-1 div.sk-parallel-item:only-child::after {width: 0;}#sk-container-id-1 div.sk-dashed-wrapped {border: 1px dashed gray;margin: 0 0.4em 0.5em 0.4em;box-sizing: border-box;padding-bottom: 0.4em;background-color: white;}#sk-container-id-1 div.sk-label label {font-family: monospace;font-weight: bold;display: inline-block;line-height: 1.2em;}#sk-container-id-1 div.sk-label-container {text-align: center;}#sk-container-id-1 div.sk-container {/* jupyter's `normalize.less` sets `[hidden] { display: none; }` but bootstrap.min.css set `[hidden] { display: none !important; }` so we also need the `!important` here to be able to override the default hidden behavior on the sphinx rendered scikit-learn.org. See: https://github.com/scikit-learn/scikit-learn/issues/21755 */display: inline-block !important;position: relative;}#sk-container-id-1 div.sk-text-repr-fallback {display: none;}</style><div id=\"sk-container-id-1\" class=\"sk-top-container\"><div class=\"sk-text-repr-fallback\"><pre>MLPClassifier(hidden_layer_sizes=(200, 400, 150, 100), max_iter=10,\n              solver=&#x27;sgd&#x27;, validation_fraction=0.0, verbose=True)</pre><b>In a Jupyter environment, please rerun this cell to show the HTML representation or trust the notebook. <br />On GitHub, the HTML representation is unable to render, please try loading this page with nbviewer.org.</b></div><div class=\"sk-container\" hidden><div class=\"sk-item\"><div class=\"sk-estimator sk-toggleable\"><input class=\"sk-toggleable__control sk-hidden--visually\" id=\"sk-estimator-id-1\" type=\"checkbox\" checked><label for=\"sk-estimator-id-1\" class=\"sk-toggleable__label sk-toggleable__label-arrow\">MLPClassifier</label><div class=\"sk-toggleable__content\"><pre>MLPClassifier(hidden_layer_sizes=(200, 400, 150, 100), max_iter=10,\n              solver=&#x27;sgd&#x27;, validation_fraction=0.0, verbose=True)</pre></div></div></div></div></div>"
     },
     "execution_count": 7,
     "metadata": {},
     "output_type": "execute_result"
    }
   ],
   "source": [
    "\n",
    "\n",
    "from sklearn.neural_network import MLPClassifier\n",
    "\n",
    "MLP_model = MLPClassifier( hidden_layer_sizes= ( 200 , 400 , 150 , 100) ,   max_iter=10,solver='sgd',activation='relu',verbose=True,validation_fraction=0.0)\n",
    "\n",
    "MLP_model.fit(X_train, y_train)\n",
    "\n",
    "\n"
   ]
  },
  {
   "cell_type": "code",
   "execution_count": 8,
   "id": "1f7fdc8d",
   "metadata": {
    "ExecuteTime": {
     "end_time": "2023-11-03T20:21:18.072328800Z",
     "start_time": "2023-11-03T20:21:18.047302Z"
    }
   },
   "outputs": [
    {
     "name": "stdout",
     "output_type": "stream",
     "text": [
      "6\n",
      "(200, 400, 150, 100)\n",
      "Layer  0 Weights  (784, 200) Bias is  (200,)\n",
      "Layer  1 Weights  (200, 400) Bias is  (400,)\n",
      "Layer  2 Weights  (400, 150) Bias is  (150,)\n",
      "Layer  3 Weights  (150, 100) Bias is  (100,)\n",
      "Layer  4 Weights  (100, 10) Bias is  (10,)\n"
     ]
    }
   ],
   "source": [
    "\n",
    "\n",
    "print( MLP_model.n_layers_ )\n",
    "\n",
    "print( MLP_model.hidden_layer_sizes)\n",
    "for layer in range( MLP_model.n_layers_-1 ):\n",
    "    print( \"Layer \" , layer , \"Weights \" , MLP_model.coefs_[layer].shape , \"Bias is \" , MLP_model.intercepts_[layer].shape )  \n",
    "\n",
    "    "
   ]
  },
  {
   "cell_type": "code",
   "execution_count": 13,
   "id": "d1d32f81",
   "metadata": {
    "ExecuteTime": {
     "end_time": "2023-11-03T20:24:41.647211600Z",
     "start_time": "2023-11-03T20:24:41.504917100Z"
    }
   },
   "outputs": [
    {
     "name": "stdout",
     "output_type": "stream",
     "text": [
      "(784,)\n",
      "(28, 28)\n",
      "[7]\n"
     ]
    },
    {
     "name": "stderr",
     "output_type": "stream",
     "text": [
      "C:\\Users\\madkour\\PycharmProjects\\dl\\venv\\lib\\site-packages\\sklearn\\base.py:465: UserWarning: X does not have valid feature names, but MLPClassifier was fitted with feature names\n",
      "  warnings.warn(\n"
     ]
    },
    {
     "data": {
      "text/plain": "<Figure size 640x480 with 1 Axes>",
      "image/png": "[encoded data removed]"
     },
     "metadata": {},
     "output_type": "display_data"
    }
   ],
   "source": [
    "import math\n",
    "import matplotlib.pyplot as plt\n",
    "text_7=X_test[y_test==7].to_numpy()\n",
    "inst=text_7[0]\n",
    "print(inst.shape)\n",
    "dim=int(math.sqrt(inst.shape[0]))\n",
    "image=inst.reshape(dim,dim)\n",
    "print(image.shape)\n",
    "plt.imshow(image)\n",
    "y_pred_test = MLP_model.predict([inst])\n",
    "\n",
    "print(y_pred_test)\n",
    "\n"
   ]
  },
  {
   "cell_type": "code",
   "execution_count": 14,
   "id": "cc4f5409",
   "metadata": {
    "ExecuteTime": {
     "end_time": "2023-11-03T20:26:04.953038800Z",
     "start_time": "2023-11-03T20:26:04.917547800Z"
    }
   },
   "outputs": [],
   "source": [
    "\n",
    "\n",
    "import seaborn as sns \n",
    "\n",
    "\n",
    "def drawing_conf_matrix(  y_actual , y_predict ):\n",
    "    \n",
    "    print( \"Classification Report\" )\n",
    "    # to represent accuacy, precision, recall and f1 score\n",
    "\n",
    "    conf_mat = confusion_matrix( y_actual,   y_predict )   # to represent confusion matrix ( TP , FP , FN , FN )\n",
    "    \n",
    "    print( \"Confusion Matrix\")\n",
    "    print( conf_mat )\n",
    "    sns.heatmap( conf_mat , annot= True  , fmt = \"\" )\n",
    "    plt.ylabel('True label')\n",
    "    plt.xlabel('Predicted label')\n",
    "\n",
    "    "
   ]
  },
  {
   "cell_type": "code",
   "execution_count": 19,
   "id": "c8096bac",
   "metadata": {
    "ExecuteTime": {
     "end_time": "2023-11-03T20:31:44.737159900Z",
     "start_time": "2023-11-03T20:31:44.648654200Z"
    }
   },
   "outputs": [
    {
     "name": "stdout",
     "output_type": "stream",
     "text": [
      "0.9611428571428572\n"
     ]
    }
   ],
   "source": [
    "from sklearn.metrics import accuracy_score\n",
    "ac=accuracy_score(y_test,MLP_model.predict(X_test))\n",
    "\n",
    "print(ac)"
   ]
  },
  {
   "cell_type": "code",
   "execution_count": 20,
   "id": "267376d4",
   "metadata": {
    "ExecuteTime": {
     "end_time": "2023-11-03T20:32:47.031190200Z",
     "start_time": "2023-11-03T20:32:46.913998800Z"
    }
   },
   "outputs": [
    {
     "name": "stdout",
     "output_type": "stream",
     "text": [
      "              precision    recall  f1-score   support\n",
      "\n",
      "           0       0.98      0.97      0.98       690\n",
      "           1       0.98      0.99      0.98       788\n",
      "           2       0.97      0.94      0.96       699\n",
      "           3       0.96      0.93      0.94       714\n",
      "           4       0.96      0.96      0.96       682\n",
      "           5       0.95      0.96      0.95       631\n",
      "           6       0.98      0.99      0.98       688\n",
      "           7       0.96      0.97      0.96       729\n",
      "           8       0.92      0.96      0.94       683\n",
      "           9       0.95      0.94      0.94       696\n",
      "\n",
      "    accuracy                           0.96      7000\n",
      "   macro avg       0.96      0.96      0.96      7000\n",
      "weighted avg       0.96      0.96      0.96      7000\n"
     ]
    }
   ],
   "source": [
    "from sklearn.metrics import classification_report\n",
    "print ( classification_report( y_test,MLP_model.predict(X_test)))"
   ]
  }
 ],
 "metadata": {
  "kernelspec": {
   "display_name": "Python 3",
   "language": "python",
   "name": "python3"
  },
  "language_info": {
   "codemirror_mode": {
    "name": "ipython",
    "version": 3
   },
   "file_extension": ".py",
   "mimetype": "text/x-python",
   "name": "python",
   "nbconvert_exporter": "python",
   "pygments_lexer": "ipython3",
   "version": "3.10.8"
  }
 },
 "nbformat": 4,
 "nbformat_minor": 5
}
