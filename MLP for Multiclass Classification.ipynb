{
 "cells": [
  {
   "cell_type": "code",
   "execution_count": null,
   "id": "27192705",
   "metadata": {
    "is_executing": true
   },
   "outputs": [],
   "source": [
    "import numpy as np\n",
    "import os\n",
    "import math\n",
    "import matplotlib\n",
    "import matplotlib.pyplot as plt\n",
    "\n",
    "from sklearn.metrics import accuracy_score ,  precision_score, recall_score, f1_score, confusion_matrix\n",
    "import pandas as p\n",
    "\n",
    "# to make this notebook's output stable across runs\n",
    "np.random.seed(42)\n",
    "\n",
    "\n"
   ]
  },
  {
   "cell_type": "markdown",
   "id": "48caab0a",
   "metadata": {},
   "source": [
    "# Fetching Mnist 784 Dataset"
   ]
  },
  {
   "cell_type": "code",
   "execution_count": 5,
   "id": "6a960cd0",
   "metadata": {
    "ExecuteTime": {
     "end_time": "2023-10-29T20:30:28.778295700Z",
     "start_time": "2023-10-29T20:30:06.488699700Z"
    }
   },
   "outputs": [
    {
     "name": "stderr",
     "output_type": "stream",
     "text": [
      "C:\\Users\\madkour\\PycharmProjects\\dl\\venv\\lib\\site-packages\\sklearn\\datasets\\_openml.py:1022: FutureWarning: The default value of `parser` will change from `'liac-arff'` to `'auto'` in 1.4. You can set `parser='auto'` to silence this warning. Therefore, an `ImportError` will be raised from 1.4 if the dataset is dense and pandas is not installed. Note that the pandas parser may return different data types. See the Notes Section in fetch_openml's API doc for details.\n",
      "  warn(\n"
     ]
    }
   ],
   "source": [
    "\n",
    "\n",
    "from sklearn.datasets import fetch_openml\n",
    "\n",
    "X,y = fetch_openml('mnist_784',version=1, cache=True, return_X_y=True )\n",
    "\n"
   ]
  },
  {
   "cell_type": "markdown",
   "source": [
    "# convert y to integer"
   ],
   "metadata": {
    "collapsed": false
   },
   "id": "eb0e6e6811ecd344"
  },
  {
   "cell_type": "code",
   "execution_count": null,
   "id": "9c8b8d03",
   "metadata": {},
   "outputs": [],
   "source": [
    "\n",
    "# Use the notion of y=f(X)\n",
    "y = y.astype(int)\n"
   ]
  },
  {
   "cell_type": "code",
   "execution_count": null,
   "id": "197d2479",
   "metadata": {},
   "outputs": [],
   "source": [
    "\n",
    "print('Data size: {0} x {1} and label size {2}'.format( X.shape[0] ,   X.shape[1]  ,  y.shape[0] ) )\n",
    "print('The images are of size: {0} x {0}'.format(math.sqrt (X.shape[1])   ))\n",
    "\n"
   ]
  },
  {
   "cell_type": "markdown",
   "id": "1658c031",
   "metadata": {},
   "source": [
    "\n",
    "# Test and Training Data\n",
    "\n",
    "Split data into test and training data after re-shuffling the data. We can simply take the first 60000 as training and the last 10000 as test."
   ]
  },
  {
   "cell_type": "code",
   "execution_count": 4,
   "id": "6b52a489",
   "metadata": {
    "ExecuteTime": {
     "end_time": "2023-10-29T20:30:01.144212400Z",
     "start_time": "2023-10-29T20:30:01.087926900Z"
    }
   },
   "outputs": [
    {
     "ename": "NameError",
     "evalue": "name 'X' is not defined",
     "output_type": "error",
     "traceback": [
      "\u001B[1;31m---------------------------------------------------------------------------\u001B[0m",
      "\u001B[1;31mNameError\u001B[0m                                 Traceback (most recent call last)",
      "Cell \u001B[1;32mIn[4], line 3\u001B[0m\n\u001B[0;32m      1\u001B[0m \u001B[38;5;28;01mfrom\u001B[39;00m \u001B[38;5;21;01msklearn\u001B[39;00m\u001B[38;5;21;01m.\u001B[39;00m\u001B[38;5;21;01mmodel_selection\u001B[39;00m \u001B[38;5;28;01mimport\u001B[39;00m train_test_split\n\u001B[1;32m----> 3\u001B[0m X_train, X_test, y_train, y_test \u001B[38;5;241m=\u001B[39m train_test_split( \u001B[43mX\u001B[49m,  y, test_size \u001B[38;5;241m=\u001B[39m \u001B[38;5;241m0.1\u001B[39m, stratify\u001B[38;5;241m=\u001B[39my, random_state\u001B[38;5;241m=\u001B[39m\u001B[38;5;241m42\u001B[39m)\n",
      "\u001B[1;31mNameError\u001B[0m: name 'X' is not defined"
     ]
    }
   ],
   "source": [
    "\n",
    "\n",
    "from sklearn.model_selection import train_test_split\n",
    "\n",
    "X_train, X_test, y_train, y_test = train_test_split( X,  y, test_size = 0.1, stratify=y, random_state=42)\n"
   ]
  },
  {
   "cell_type": "code",
   "execution_count": null,
   "id": "1fddced7",
   "metadata": {},
   "outputs": [],
   "source": [
    "\n",
    "print(  \" The Number of Training data is \" ,  X_train.shape[0] )\n",
    "print(  \" The Number of Testing data is \"  ,  X_test.shape[0] )\n",
    "\n"
   ]
  },
  {
   "cell_type": "code",
   "execution_count": null,
   "id": "2d61b1f7",
   "metadata": {},
   "outputs": [],
   "source": [
    "\n",
    "\n",
    "from sklearn.neural_network import MLPClassifier\n",
    "\n",
    "MLP_model = MLPClassifier( hidden_layer_sizes= ( 200 , 400 , 150 , 100) ,   max_iter=10,solver='sgd',activation='relu',verbose=True,validation_fraction=0.0)\n",
    "\n",
    "MLP_model.fit(X_train, y_train)\n",
    "\n",
    "\n"
   ]
  },
  {
   "cell_type": "code",
   "execution_count": null,
   "id": "1f7fdc8d",
   "metadata": {},
   "outputs": [],
   "source": [
    "\n",
    "\n",
    "print( MLP_model.n_layers_ )\n",
    "\n",
    "print( MLP_model.hidden_layer_sizes)\n",
    "\n",
    "for layer in range( MLP_model.n_layers_-1 ):\n",
    "    print( \"Layer \" , layer , \"Weights \" , MLP_model.coefs_[layer].shape , \"Bias is \" , MLP_model.intercepts_[layer].shape )  \n",
    "\n",
    "    "
   ]
  },
  {
   "cell_type": "code",
   "execution_count": null,
   "id": "d1d32f81",
   "metadata": {},
   "outputs": [],
   "source": [
    "\n",
    "text_7=X_test[y_test==5].to_numpy()\n",
    "inst=text_7[0]\n",
    "print(inst.shape)\n",
    "dim=int(math.sqrt(inst.shape[0]))\n",
    "image=inst.reshape(dim,dim)\n",
    "print(image.shape)\n",
    "\n",
    "plt.imshow(image)\n",
    "y_pred_test = MLP_model.predict([inst])\n",
    "\n",
    "print(y_pred_test)\n",
    "\n"
   ]
  },
  {
   "cell_type": "code",
   "execution_count": 1,
   "id": "cc4f5409",
   "metadata": {
    "ExecuteTime": {
     "end_time": "2023-10-29T20:28:46.106424Z",
     "start_time": "2023-10-29T20:28:46.010186400Z"
    }
   },
   "outputs": [],
   "source": [
    "\n",
    "\n",
    "from sklearn.metrics import classification_report\n",
    "import seaborn as sns \n",
    "\n",
    "\n",
    "def drawing_conf_matrix(  y_actual , y_predict ):\n",
    "    \n",
    "    print( \"Classification Report\" )\n",
    "    print ( classification_report(  y_actual , y_predict  )  )  # to represent accuacy, precision, recall and f1 score\n",
    "\n",
    "    conf_mat = confusion_matrix( y_actual,   y_predict )   # to represent confusion matrix ( TP , FP , FN , FN )\n",
    "    \n",
    "    print( \"Confusion Matrix\")\n",
    "    print( conf_mat )\n",
    "    sns.heatmap( conf_mat , annot= True  , fmt = \"\" )\n",
    "    plt.ylabel('True label')\n",
    "    plt.xlabel('Predicted label')\n",
    "\n",
    "    "
   ]
  },
  {
   "cell_type": "code",
   "execution_count": 3,
   "id": "c8096bac",
   "metadata": {
    "ExecuteTime": {
     "end_time": "2023-10-29T20:29:49.685547400Z",
     "start_time": "2023-10-29T20:29:49.656550100Z"
    }
   },
   "outputs": [
    {
     "ename": "NameError",
     "evalue": "name 'y_test' is not defined",
     "output_type": "error",
     "traceback": [
      "\u001B[1;31m---------------------------------------------------------------------------\u001B[0m",
      "\u001B[1;31mNameError\u001B[0m                                 Traceback (most recent call last)",
      "Cell \u001B[1;32mIn[3], line 1\u001B[0m\n\u001B[1;32m----> 1\u001B[0m drawing_conf_matrix( \u001B[43my_test\u001B[49m , MLP_model\u001B[38;5;241m.\u001B[39mpredict(y_test))\n",
      "\u001B[1;31mNameError\u001B[0m: name 'y_test' is not defined"
     ]
    }
   ],
   "source": [
    "drawing_conf_matrix( y_test , MLP_model.predict(y_test))\n"
   ]
  },
  {
   "cell_type": "code",
   "execution_count": null,
   "id": "267376d4",
   "metadata": {},
   "outputs": [],
   "source": [
    "drawing_conf_matrix( y_test, y_pred_test  )\n"
   ]
  }
 ],
 "metadata": {
  "kernelspec": {
   "display_name": "Python 3",
   "language": "python",
   "name": "python3"
  },
  "language_info": {
   "codemirror_mode": {
    "name": "ipython",
    "version": 3
   },
   "file_extension": ".py",
   "mimetype": "text/x-python",
   "name": "python",
   "nbconvert_exporter": "python",
   "pygments_lexer": "ipython3",
   "version": "3.10.8"
  }
 },
 "nbformat": 4,
 "nbformat_minor": 5
}
